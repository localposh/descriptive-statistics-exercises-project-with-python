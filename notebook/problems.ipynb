{
    "cells": [
        {
            "cell_type": "markdown",
            "id": "ac622319",
            "metadata": {},
            "source": [
                "# Descriptive statistics problems"
            ]
        },
        {
            "cell_type": "markdown",
            "id": "aa8993e4",
            "metadata": {},
            "source": [
                "### Exercise 1"
            ]
        },
        {
            "cell_type": "markdown",
            "id": "5e0ab0d5",
            "metadata": {},
            "source": [
                "We will use Numpy to obtain information to describe statistically.\n",
                "\n",
                "- Generate an array of 100 elements following a normal distribution.\n",
                "- Generate an array of 100 elements following a chi-square distribution with 3 degrees of freedom.\n",
                "- Calculate the main metrics and statistical measures that best describe the two vectors."
            ]
        },
        {
            "cell_type": "code",
            "execution_count": 11,
            "id": "34720ab6",
            "metadata": {},
            "outputs": [
                {
                    "name": "stdout",
                    "output_type": "stream",
                    "text": [
                        "Normal vector: [ 0.12772897 -1.7044324  -0.44083423 -0.08059277 -1.36497095 -0.8842881\n",
                        " -1.63771824  0.57951639  1.73681046 -0.5133112  -2.37929545  0.16905688\n",
                        " -0.60270074  0.63205167 -2.34070088  0.19438899  1.45220647 -0.10735736\n",
                        " -0.4505663  -0.46421265 -0.16310949 -0.23412804  0.23817084 -0.83217052\n",
                        "  1.30394925 -1.44776776 -0.72551778 -0.73258445  0.93994573 -1.63726391\n",
                        " -0.88159655  0.52133094  0.74986268 -1.71376378 -0.88926215  0.54305603\n",
                        "  0.02378352 -0.69618447  0.58611279  0.52936921  1.01506525 -1.14657777\n",
                        " -0.08016228  0.89501439 -0.31442971  0.81707413 -0.37968111  0.09247007\n",
                        "  1.04159931 -0.93593626  0.44308818 -0.09683281 -1.86072551 -1.02357626\n",
                        " -1.41318161  0.29636053 -0.58619318  0.68766697 -0.19984294  0.22128871\n",
                        "  0.75485763 -0.07454639 -0.39154659  1.14269166  1.45486356 -0.07243499\n",
                        " -1.02304354  0.24953368 -0.35311068 -0.43184185  0.26119675  1.05353976\n",
                        "  0.38636471  1.23933478 -0.21509673 -1.1857992  -0.02601702 -1.36693873\n",
                        " -0.31694382 -0.66039561 -0.4639901  -0.53702974  1.16435864  0.57097415\n",
                        "  1.13640988 -2.2789579  -0.08063446  0.26970553 -1.10313484 -0.99219441\n",
                        " -0.42142603  0.41095114 -0.74294363  0.12491325 -1.2044441  -0.28357421\n",
                        "  1.27876812 -1.61785984 -0.54981766 -1.26249164]\n",
                        "Chi-square vector: [ 4.17940584  2.41279251  2.18566195  2.48937977  4.18992615  5.49756393\n",
                        " 13.46442753  1.73010926  4.24197705  5.23710897  0.44179123  0.26756712\n",
                        "  1.21734529  2.81531099  2.04197054  3.48528839  1.71463959  3.18267291\n",
                        "  0.79468676  0.77716216  2.98850817  8.25843495  0.18437091  1.54104169\n",
                        "  7.99127902  1.67008734  8.15177743  4.93065396  3.24416764  2.33324034\n",
                        "  0.60020953  2.24851017 10.750949    4.14129948  1.25306805  5.10906249\n",
                        "  1.82923494  2.76576158  2.65236915  2.61378692  7.49178028  2.5506854\n",
                        "  0.45907218  1.82667934  1.64526029  5.56962834  4.60455105  0.98611941\n",
                        "  6.62824888  1.25231526  3.93812152  0.27439152  3.92810525  2.37078683\n",
                        "  3.32637328  8.64739338  2.16554588  3.56531202  5.35773743  8.20785231\n",
                        "  2.92819986  2.95788879  4.1410094   2.24517811  4.1628239   4.5891643\n",
                        "  9.68511039  3.90654664  0.89953706  1.6413704   5.90025855  5.20943621\n",
                        "  4.53430713  1.33874034  1.64801161  2.57580694  0.41488448  2.72969504\n",
                        "  2.99689917  1.36587777  4.7384358   2.95862298  2.39712037  2.06292674\n",
                        "  2.9099275   1.63373062  5.0085133   2.11874166  0.09988445  0.20106193\n",
                        "  1.25899873  5.57978942  2.08691719  3.47395198  1.51276769  7.99344399\n",
                        "  5.18690971  0.91716589  0.04057853  3.1540903 ]\n"
                    ]
                }
            ],
            "source": [
                "# TODO\n",
                "import numpy as np\n",
                "\n",
                "\n",
                "np.random.seed\n",
                "\n",
                "normaldist = np.random.normal(size = 100)\n",
                "chidist = np.random.chisquare(3, 100)\n",
                "\n",
                "print(f\"Normal vector: {normaldist}\")\n",
                "print(f\"Chi-square vector: {chidist}\")\n"
            ]
        },
        {
            "cell_type": "code",
            "execution_count": 13,
            "id": "0819caa4",
            "metadata": {},
            "outputs": [
                {
                    "name": "stdout",
                    "output_type": "stream",
                    "text": [
                        "{-0.21282251749938244}\n",
                        "{3.336248854160368}\n"
                    ]
                }
            ],
            "source": [
                "import statistics as stats\n",
                "\n",
                "print({stats.mean(normaldist)})\n",
                "print({stats.mean(chidist)})"
            ]
        },
        {
            "cell_type": "code",
            "execution_count": 14,
            "id": "1ccb8038",
            "metadata": {},
            "outputs": [
                {
                    "name": "stdout",
                    "output_type": "stream",
                    "text": [
                        "{-0.20746983874265668}\n",
                        "{2.7477283123495897}\n"
                    ]
                }
            ],
            "source": [
                "import statistics as stats\n",
                "\n",
                "print({stats.median(normaldist)})\n",
                "print({stats.median(chidist)})"
            ]
        },
        {
            "cell_type": "markdown",
            "id": "46c70c3d",
            "metadata": {},
            "source": [
                "### Exercise 2\n",
                "\n",
                "Write a Python program to calculate the standard deviation of the following data:\n",
                "\n",
                "```py\n",
                "data = [4, 2, 5, 8, 6]\n",
                "```"
            ]
        },
        {
            "cell_type": "code",
            "execution_count": 8,
            "id": "d590308e",
            "metadata": {},
            "outputs": [
                {
                    "name": "stdout",
                    "output_type": "stream",
                    "text": [
                        "2.0\n"
                    ]
                }
            ],
            "source": [
                "# TODO\n",
                "import numpy as np\n",
                "\n",
                "data = [4, 2, 5, 8, 6]\n",
                "\n",
                "print(np.std(data))"
            ]
        }
    ],
    "metadata": {
        "interpreter": {
            "hash": "9248718ffe6ce6938b217e69dbcc175ea21f4c6b28a317e96c05334edae734bb"
        },
        "kernelspec": {
            "display_name": "Python 3.9.12 ('ML-BOOTCAMP')",
            "language": "python",
            "name": "python3"
        },
        "language_info": {
            "codemirror_mode": {
                "name": "ipython",
                "version": 3
            },
            "file_extension": ".py",
            "mimetype": "text/x-python",
            "name": "python",
            "nbconvert_exporter": "python",
            "pygments_lexer": "ipython3",
            "version": "3.11.4"
        }
    },
    "nbformat": 4,
    "nbformat_minor": 5
}
